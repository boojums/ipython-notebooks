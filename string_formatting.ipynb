{
 "metadata": {
  "name": "string_formatting"
 }, 
 "nbformat": 2, 
 "worksheets": [
  {
   "cells": [
    {
     "cell_type": "markdown", 
     "source": [
      "# String formatting in Python ", 
      "##### or 'How to print things pretty'", 
      "", 
      "", 
      "There are different ways to print and format output strings in Python. This notebook demonstrates the use of the ", 
      "str.format() method. The definitive reference for formatting is in the ", 
      "<a href=http://docs.python.org/2/library/string.html>Python docs</a>, and these examples aren't very different.", 
      "Hopefully they are useful to demonstrate how it works!"
     ]
    }, 
    {
     "cell_type": "code", 
     "collapsed": false, 
     "input": [
      "# Familiar examples of formatting output", 
      "food = 'pizza'", 
      "pet = 'cat'", 
      "age = 34", 
      "", 
      "print food              # Good for degugging", 
      "print \"I have a \", pet  # Also good (better?) for debugging", 
      "print \"I am %d years old and have a %s named Spike.\" % (age, pet)  # Can use, but going out of style"
     ], 
     "language": "python", 
     "outputs": [
      {
       "output_type": "stream", 
       "stream": "stdout", 
       "text": [
        "pizza", 
        "I have a  cat", 
        "I am 34 years old and have a cat named Spike."
       ]
      }
     ], 
     "prompt_number": 1
    }, 
    {
     "cell_type": "markdown", 
     "source": [
      "As of Python 2.6, str objects have a method called format() that is very powerful and easy to use. ", 
      "Many of the formatting options available with when using the % format style are still available, but there ", 
      "is additional flexibility.", 
      "", 
      "###Replacement fields", 
      "", 
      "To use str.format() you specify a format string with replacement fields that look like this: {}", 
      "", 
      "Every instance of {} in your string will be replaced by a variable."
     ]
    }, 
    {
     "cell_type": "code", 
     "collapsed": false, 
     "input": [
      "# If used empty, each field is replaced by the str() of the corresponding variable", 
      "print 'I am {} years old and my favorite food is {}.'.format(age, food)", 
      "#           ^age                                 ^food", 
      "", 
      "# Or you can specify which variable to use (they are numbered from 0):", 
      "print 'I would like to eat {0}. {1} {0}s, please.'.format(food, age)", 
      "#                                                          0    1"
     ], 
     "language": "python", 
     "outputs": [
      {
       "output_type": "stream", 
       "stream": "stdout", 
       "text": [
        "I am 34 years old and my favorite food is pizza.", 
        "I would like to eat pizza. 34 pizzas, please."
       ]
      }
     ], 
     "prompt_number": 2
    }, 
    {
     "cell_type": "markdown", 
     "source": [
      "The fun begins when you realize that it is possible to assign names to the variables and to access attributes, dictionary values, ", 
      "array elements, etc. within the variable. "
     ]
    }, 
    {
     "cell_type": "code", 
     "collapsed": false, 
     "input": [
      "import datetime", 
      "temp = 278.2", 
      "pressure = 1008.2", 
      "", 
      "# Give each variable a name to make your code easier to read", 
      "print 'Surface temperature: {t}, surface pressure: {p}'.format(t=temp, p=pressure)", 
      "", 
      "# Or refer to members of a dictionary, list/array elements, or object attributes", 
      "d = datetime.date(2013, 11, 10)", 
      "temps = [274.1, 275.3, 272.9, 279.0]", 
      "location = {'lat': 65.2, 'lon': -17.5}", 
      "", 
      "# In this example d is an object with the attributes year, month, and day. Use {n.attribute}", 
      "# temps is a list, so you can access the elemnts with {n[i]}", 
      "# location is a dictionary, use {n[key]}", 
      "print \"Morning temperature on day {2.day} at location {0[lat]},{0[lon]} was: {1[3]}K.\".format(location, temps, d)"
     ], 
     "language": "python", 
     "outputs": [
      {
       "output_type": "stream", 
       "stream": "stdout", 
       "text": [
        "Surface temperature: 278.2, surface pressure: 1008.2", 
        "Morning temperature on day 10 at location 65.2,-17.5 was: 279.0K."
       ]
      }
     ], 
     "prompt_number": 3
    }, 
    {
     "cell_type": "markdown", 
     "source": [
      "###Formatting the output", 
      "All formatting options (numerical precision, spacing, number format) go after a :"
     ]
    }, 
    {
     "cell_type": "code", 
     "collapsed": false, 
     "input": [
      "temp = 279.321243123", 
      "pressure = 1008.32423451", 
      "particulates = 0.000003245", 
      "", 
      "# .1f indicates 1 value after the decimal, .2e for exponential notation", 
      "print 'Temp: {0:.1f} Pressure: {1:.2f} Part concentration: {2:.2e}'.format(temp, pressure, particulates)"
     ], 
     "language": "python", 
     "outputs": [
      {
       "output_type": "stream", 
       "stream": "stdout", 
       "text": [
        "Temp: 279.3 Pressure: 1008.32 Part concentration: 3.24e-06"
       ]
      }
     ], 
     "prompt_number": 4
    }, 
    {
     "cell_type": "code", 
     "collapsed": false, 
     "input": [
      "# It is also possible to use formatting strings specific to a type, such as with datetime objects", 
      "# Use the same formatting options as with strftime()", 
      "# (This is my favorite feature)", 
      "d = datetime.datetime(1979, 3, 24, 6, 46, 42)", 
      "", 
      "print '{:%d-%m-%Y %H:%M:%S}'.format(d)", 
      "print '{:%Y%m%d%H}00'.format(d)"
     ], 
     "language": "python", 
     "outputs": [
      {
       "output_type": "stream", 
       "stream": "stdout", 
       "text": [
        "24-03-1979 06:46:42", 
        "197903240600"
       ]
      }
     ], 
     "prompt_number": 5
    }, 
    {
     "cell_type": "markdown", 
     "source": [
      "###Justification and padding", 
      "Output can be justified or padded with characters, just add the justification symbols after the :", 
      "", 
      "- < Left align (default for most things)", 
      "- > Right align (default for numbers)", 
      "- ^ Center", 
      "- = Pad the number with leading zeros AFTER the sign (only for numbers!), eg: +0000435.9", 
      "", 
      "Insert a character (such as '0' or '*') before the alignment character to use it instead of spaces. ", 
      "", 
      "Additionally, for numbers:", 
      "", 
      "- '+' Always show the sign", 
      "- '-' Only show - sign (default)", 
      "-   Use a space to indicate a space for positive numbers, - for negative numbers"
     ]
    }, 
    {
     "cell_type": "code", 
     "collapsed": false, 
     "input": [
      "# Example of padding", 
      "# [Total observations, number used]", 
      "obs = [['# Obs', '# Used'], [98513, 234], [123213, 514], [92340, 1240], [324, 12], [10932, 113]]", 
      "", 
      "# Right justified spacing", 
      "for x in obs:", 
      "    print '{0[0]:>8} {0[1]:>8}'.format(x)"
     ], 
     "language": "python", 
     "outputs": [
      {
       "output_type": "stream", 
       "stream": "stdout", 
       "text": [
        "   # Obs   # Used", 
        "   98513      234", 
        "  123213      514", 
        "   92340     1240", 
        "     324       12", 
        "   10932      113"
       ]
      }
     ], 
     "prompt_number": 6
    }, 
    {
     "cell_type": "code", 
     "collapsed": false, 
     "input": [
      "# Left justified with a centered title", 
      "# Also an example of using a replacement field inside a replacement field, in this case using a variable", 
      "# to specify the width, making it easy to change for all instances", 
      "", 
      "width = 10", 
      "print '{:*^20}'.format('Left justified')", 
      "for x in obs:", 
      "    print '{0[0]:<{width}} {0[1]:<{width}}'.format(x, width=width)"
     ], 
     "language": "python", 
     "outputs": [
      {
       "output_type": "stream", 
       "stream": "stdout", 
       "text": [
        "***Left justified***", 
        "# Obs      # Used    ", 
        "98513      234       ", 
        "123213     514       ", 
        "92340      1240      ", 
        "324        12        ", 
        "10932      113       "
       ]
      }
     ], 
     "prompt_number": 7
    }, 
    {
     "cell_type": "markdown", 
     "source": [
      "###Not just for printing!", 
      "", 
      "The format() method just creates a new string with the format you specify, so you can save the result and use it", 
      "just like you would any other string."
     ]
    }, 
    {
     "cell_type": "code", 
     "collapsed": false, 
     "input": [
      "# Example of saving a string and doing some string things with it", 
      "", 
      "record = {'album':'Rubber Soul', 'artist':'The Beatles', 'year': 1965}", 
      "", 
      "my_string = 'The best album of {0[year]} is {0[album]} by {0[artist]}.'.format(record)", 
      "print my_string", 
      "", 
      "if 'Beatles' in my_string:", 
      "    print 'Ugh, they always win.'", 
      "", 
      "print my_string.swapcase()"
     ], 
     "language": "python", 
     "outputs": [
      {
       "output_type": "stream", 
       "stream": "stdout", 
       "text": [
        "The best album of 1965 is Rubber Soul by The Beatles.", 
        "Ugh, they always win.", 
        "tHE BEST ALBUM OF 1965 IS rUBBER sOUL BY tHE bEATLES."
       ]
      }
     ], 
     "prompt_number": 8
    }, 
    {
     "cell_type": "markdown", 
     "source": [
      "###Resources", 
      "", 
      "- [Python string documentation](http://docs.python.org/2/library/string.html)", 
      "- [strftime reference](http://strftime.org/)", 
      "- [Python string format cookbook](http://ebeab.com/2012/10/10/python-string-format/)"
     ]
    }
   ]
  }
 ]
}