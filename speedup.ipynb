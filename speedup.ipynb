{
 "metadata": {
  "name": "",
  "signature": "sha256:cb410aa871dfd4409eaa4fb0daf6336882739d6007fe35deb249010b581c6374"
 },
 "nbformat": 3,
 "nbformat_minor": 0,
 "worksheets": [
  {
   "cells": [
    {
     "cell_type": "heading",
     "level": 1,
     "metadata": {},
     "source": [
      "Speeding things up while sciencing with Python: an exploration"
     ]
    },
    {
     "cell_type": "markdown",
     "metadata": {},
     "source": [
      "This notebook is a haphazard collection of a few techniques that you can use to speed up scripts and calculations. It's not comprehensive at all and is instead a place to get some ideas for what to investigate further."
     ]
    },
    {
     "cell_type": "heading",
     "level": 2,
     "metadata": {},
     "source": [
      "Speed up?"
     ]
    },
    {
     "cell_type": "markdown",
     "metadata": {},
     "source": [
      "Not so fast! First, write your code so it works and is readable. Then, if you find that it needs speeding, up figure out where you can save time by profiling.\n",
      "\n",
      "There are some basic tools included in Python (https://docs.python.org/2/library/profile.html) and implemented as iPython magic functions for profiling:\n",
      "\n",
      "  `%timeit`: time a snippet or function several times (also see timeit module)\n",
      "\n",
      "   `%prun`: see how much time is spent in each function (also see the profile and cProfile modules)\n",
      "\n",
      "There are also line profilers and memory profilers available, that you'll have to install separately.\n",
      "\n",
      "Here's an example of using the iPython magic functions `%prun` and `%timeit` to figure out where I should focus my efforts in a bits of test code. "
     ]
    },
    {
     "cell_type": "code",
     "collapsed": false,
     "input": [
      "import numpy as np"
     ],
     "language": "python",
     "metadata": {},
     "outputs": [],
     "prompt_number": 1
    },
    {
     "cell_type": "code",
     "collapsed": false,
     "input": [
      "def do_something_loopy(foo):\n",
      "    for i in range(len(foo)):\n",
      "        foo[i] = foo[i] ** 2\n",
      "\n",
      "def do_something_else(foo):\n",
      "    foo = foo ** 2\n",
      "    \n",
      "def test():\n",
      "    a = np.arange(1e7)\n",
      "    b = np.arange(1e7)\n",
      "    do_something_loopy(a)\n",
      "    do_something_else(b)"
     ],
     "language": "python",
     "metadata": {},
     "outputs": [],
     "prompt_number": 3
    },
    {
     "cell_type": "code",
     "collapsed": false,
     "input": [
      "%timeit test()"
     ],
     "language": "python",
     "metadata": {},
     "outputs": [
      {
       "output_type": "stream",
       "stream": "stdout",
       "text": [
        "1 loops, best of 3: 3.41 s per loop\n"
       ]
      }
     ],
     "prompt_number": 4
    },
    {
     "cell_type": "code",
     "collapsed": false,
     "input": [
      "%prun test()"
     ],
     "language": "python",
     "metadata": {},
     "outputs": [
      {
       "output_type": "stream",
       "stream": "stdout",
       "text": [
        " "
       ]
      }
     ],
     "prompt_number": 219
    },
    {
     "cell_type": "heading",
     "level": 2,
     "metadata": {},
     "source": [
      "Vectorize"
     ]
    },
    {
     "cell_type": "markdown",
     "metadata": {},
     "source": [
      "The easiest first step is to make sure to take advantage of numpy's by-element operators and functions in order to reduce the need for looping in Python (which is slow) and push the looping to numpy's backend, written in C."
     ]
    },
    {
     "cell_type": "code",
     "collapsed": false,
     "input": [
      "# Setup some moderately big arrays for playing\n",
      "N = 1e6\n",
      "a = np.random.random(N)\n",
      "b = np.random.random(N)\n",
      "c = np.zeros_like(a)"
     ],
     "language": "python",
     "metadata": {},
     "outputs": [],
     "prompt_number": 228
    },
    {
     "cell_type": "code",
     "collapsed": false,
     "input": [
      "# In C or Fortran you'd loop through the array:\n",
      "%timeit for i in range(len(a)): c[i] = np.cos(a[i])"
     ],
     "language": "python",
     "metadata": {},
     "outputs": [
      {
       "output_type": "stream",
       "stream": "stdout",
       "text": [
        "1 loops, best of 3: 1.37 s per loop\n"
       ]
      }
     ],
     "prompt_number": 137
    },
    {
     "cell_type": "code",
     "collapsed": false,
     "input": [
      "# Better way, use numpy element-wise functions and operators\n",
      "%timeit c = np.cos(a)"
     ],
     "language": "python",
     "metadata": {},
     "outputs": [
      {
       "output_type": "stream",
       "stream": "stdout",
       "text": [
        "100 loops, best of 3: 14.6 ms per loop\n"
       ]
      }
     ],
     "prompt_number": 129
    },
    {
     "cell_type": "markdown",
     "metadata": {},
     "source": [
      "A more common perceived need for looping might be when you need to assign a value only some of the time. Here you could use boolean masks (e.g.). "
     ]
    },
    {
     "cell_type": "code",
     "collapsed": false,
     "input": [
      "# Take the 'a' value if it is over .5, otherwise assign 'b' value\n",
      "# Two approaches: first with a for loop (the natural/intuitive choice)\n",
      "# second with a boolean mask\n",
      "\n",
      "def naive(a,b,c):\n",
      "    for i in range(len(a)):\n",
      "        if a[i] > .5:\n",
      "            c[i] = a[i]\n",
      "        else:\n",
      "            c[i] = b[i] \n",
      "\n",
      "def masked(a,b,c):\n",
      "    mask = a > .5\n",
      "    c[mask] = a[mask]\n",
      "    c[~mask] = b[~mask]"
     ],
     "language": "python",
     "metadata": {},
     "outputs": [],
     "prompt_number": 18
    },
    {
     "cell_type": "code",
     "collapsed": false,
     "input": [
      "%timeit naive(a,b,c)"
     ],
     "language": "python",
     "metadata": {},
     "outputs": [
      {
       "output_type": "stream",
       "stream": "stdout",
       "text": [
        "1 loops, best of 3: 260 ms per loop\n"
       ]
      }
     ],
     "prompt_number": 15
    },
    {
     "cell_type": "code",
     "collapsed": false,
     "input": [
      "%timeit masked(a,b,c)"
     ],
     "language": "python",
     "metadata": {},
     "outputs": [
      {
       "output_type": "stream",
       "stream": "stdout",
       "text": [
        "10 loops, best of 3: 25.9 ms per loop\n"
       ]
      }
     ],
     "prompt_number": 19
    },
    {
     "cell_type": "code",
     "collapsed": false,
     "input": [
      "# In this particular simple case it's even better to use numpy's where() function:\n",
      "%timeit c = np.where(a > .5, a, b)"
     ],
     "language": "python",
     "metadata": {},
     "outputs": [
      {
       "output_type": "stream",
       "stream": "stdout",
       "text": [
        "100 loops, best of 3: 4.83 ms per loop\n"
       ]
      }
     ],
     "prompt_number": 229
    },
    {
     "cell_type": "markdown",
     "metadata": {},
     "source": [
      "For more advanced speedup tricks with numpy arrays check out `stride_tricks`. "
     ]
    },
    {
     "cell_type": "code",
     "collapsed": false,
     "input": [
      "def rolling_window(a, window):\n",
      "    \"\"\" Return a view of array a with an added window-sized dimension.\n",
      "        This makes it easy to calculate rolling statistics.\"\"\"\n",
      "    # From: http://www.rigtorp.se/2011/01/01/rolling-statistics-numpy.html\n",
      "    # Ex: From [0,1,2,3,4,...] returns [[0,1,2],[1,2,3],[2,3,4],...]\n",
      "    # which is just a view to the original array \n",
      "\n",
      "    # Define the shape of the new view (add a dimension)\n",
      "    # Ex: For a 1d array of length 28 and a window of 3, new shape is (26,3)\n",
      "    shape = a.shape[:-1] + (a.shape[-1] - window + 1, window)\n",
      "    \n",
      "    # Define how far apart each element is based on the original array\n",
      "    strides = a.strides + (a.strides[-1],)\n",
      "\n",
      "    # Return new view with calculated shape and stride\n",
      "    return np.lib.stride_tricks.as_strided(a, shape=shape, strides=strides)"
     ],
     "language": "python",
     "metadata": {},
     "outputs": [],
     "prompt_number": 24
    },
    {
     "cell_type": "code",
     "collapsed": false,
     "input": [
      "a = np.arange(10)\n",
      "a.flags"
     ],
     "language": "python",
     "metadata": {},
     "outputs": [
      {
       "metadata": {},
       "output_type": "pyout",
       "prompt_number": 25,
       "text": [
        "  C_CONTIGUOUS : True\n",
        "  F_CONTIGUOUS : True\n",
        "  OWNDATA : True\n",
        "  WRITEABLE : True\n",
        "  ALIGNED : True\n",
        "  UPDATEIFCOPY : False"
       ]
      }
     ],
     "prompt_number": 25
    },
    {
     "cell_type": "code",
     "collapsed": false,
     "input": [
      "rolled_a = rolling_window(a, 3)\n",
      "rolled_a\n"
     ],
     "language": "python",
     "metadata": {},
     "outputs": [
      {
       "metadata": {},
       "output_type": "pyout",
       "prompt_number": 27,
       "text": [
        "array([[0, 1, 2],\n",
        "       [1, 2, 3],\n",
        "       [2, 3, 4],\n",
        "       [3, 4, 5],\n",
        "       [4, 5, 6],\n",
        "       [5, 6, 7],\n",
        "       [6, 7, 8],\n",
        "       [7, 8, 9]])"
       ]
      }
     ],
     "prompt_number": 27
    },
    {
     "cell_type": "code",
     "collapsed": false,
     "input": [
      "rolling_average = rolled_a.mean(axis=1)\n",
      "rolling_average"
     ],
     "language": "python",
     "metadata": {},
     "outputs": [
      {
       "metadata": {},
       "output_type": "pyout",
       "prompt_number": 173,
       "text": [
        "array([  1.00000000e+00,   2.00000000e+00,   3.00000000e+00, ...,\n",
        "         9.99996000e+05,   9.99997000e+05,   9.99998000e+05])"
       ]
      }
     ],
     "prompt_number": 173
    },
    {
     "cell_type": "markdown",
     "metadata": {},
     "source": [
      "See numerics_rolling example from PyHI 20140207."
     ]
    },
    {
     "cell_type": "heading",
     "level": 2,
     "metadata": {},
     "source": [
      "Using numexpr"
     ]
    },
    {
     "cell_type": "markdown",
     "metadata": {},
     "source": [
      "numexpr is a multithreaded expression evaluator. It supports operations on arrays all the basic typical operators and functions (ex: \"a**2 + b/2 - sin(c)\"). Use it as a dead simple way to speed up your calculations without having to use Fortran or C. This is especially effective if you are running the same expression many times (say, for many files), as the expression is cached, making subsequent calls faster.\n",
      "\n",
      "Install in your virtualenv with `pip install numexpr`. More info here: https://github.com/pydata/numexpr"
     ]
    },
    {
     "cell_type": "code",
     "collapsed": false,
     "input": [
      "# consider using numexpr for evaluating expression with large arrays \n",
      "import numexpr as ne\n",
      "\n",
      "a = np.arange(1e6)   \n",
      "b = np.arange(1e6)\n",
      "\n",
      "# Some examples using numexpr.evaluate: send the expression as a string argument \n",
      "ne.evaluate(\"a + 1\")   # a simple expression"
     ],
     "language": "python",
     "metadata": {},
     "outputs": [
      {
       "metadata": {},
       "output_type": "pyout",
       "prompt_number": 28,
       "text": [
        "array([  1.00000000e+00,   2.00000000e+00,   3.00000000e+00, ...,\n",
        "         9.99998000e+05,   9.99999000e+05,   1.00000000e+06])"
       ]
      }
     ],
     "prompt_number": 28
    },
    {
     "cell_type": "code",
     "collapsed": false,
     "input": [
      "ne.evaluate('a*b-4.1*a > 2.5*b')   # a more complex one"
     ],
     "language": "python",
     "metadata": {},
     "outputs": [
      {
       "metadata": {},
       "output_type": "pyout",
       "prompt_number": 167,
       "text": [
        "array([False, False, False, ...,  True,  True,  True], dtype=bool)"
       ]
      }
     ],
     "prompt_number": 167
    },
    {
     "cell_type": "code",
     "collapsed": false,
     "input": [
      "ne.evaluate(\"sin(a) + arcsinh(a/b)\")   # you can also use functions"
     ],
     "language": "python",
     "metadata": {},
     "outputs": [
      {
       "metadata": {},
       "output_type": "pyout",
       "prompt_number": 168,
       "text": [
        "array([        nan,  1.72284457,  1.79067101, ...,  1.09567006,\n",
        "        0.17523598, -0.09597844])"
       ]
      }
     ],
     "prompt_number": 168
    },
    {
     "cell_type": "code",
     "collapsed": false,
     "input": [
      "s = np.array(['abba', 'abbb', 'abbcdef'])\n",
      "ne.evaluate(\"'abba' == s\")   # string arrays are supported too"
     ],
     "language": "python",
     "metadata": {},
     "outputs": [
      {
       "metadata": {},
       "output_type": "pyout",
       "prompt_number": 169,
       "text": [
        "array([ True, False, False], dtype=bool)"
       ]
      }
     ],
     "prompt_number": 169
    },
    {
     "cell_type": "code",
     "collapsed": false,
     "input": [
      "# Test out the speed: straight numpy example\n",
      "%timeit a**2 + b**2 + 2*a*b"
     ],
     "language": "python",
     "metadata": {},
     "outputs": [
      {
       "output_type": "stream",
       "stream": "stdout",
       "text": [
        "100 loops, best of 3: 11.9 ms per loop\n"
       ]
      }
     ],
     "prompt_number": 29
    },
    {
     "cell_type": "code",
     "collapsed": false,
     "input": [
      "%timeit ne.evaluate(\"a**2 + b**2 + 2*a*b\")"
     ],
     "language": "python",
     "metadata": {},
     "outputs": [
      {
       "output_type": "stream",
       "stream": "stdout",
       "text": [
        "100 loops, best of 3: 2.3 ms per loop\n"
       ]
      }
     ],
     "prompt_number": 30
    },
    {
     "cell_type": "code",
     "collapsed": false,
     "input": [
      "# You can control the number of threads with set_num_threads() - returns previous value\n",
      "ne.set_num_threads(1)\n",
      "%timeit ne.evaluate(\"a**2 + b**2 + 2*a*b\")"
     ],
     "language": "python",
     "metadata": {},
     "outputs": [
      {
       "output_type": "stream",
       "stream": "stdout",
       "text": [
        "100 loops, best of 3: 4.08 ms per loop\n"
       ]
      }
     ],
     "prompt_number": 32
    },
    {
     "cell_type": "markdown",
     "metadata": {},
     "source": [
      "Here's an example of using numexpr with some fake realistic IST data."
     ]
    },
    {
     "cell_type": "code",
     "collapsed": false,
     "input": [
      "# Testing numexpr with fake IST data\n",
      "a, b, c, d = -0.09859, 1.00078, 0.73605, 0.05960\n",
      "t11 = 50 * np.random.random(1e6) + 223.15\n",
      "t12 = t11 - 2 * np.random.random(1e6)\n",
      "theta = np.deg2rad(70 * np.random.random(1e6))"
     ],
     "language": "python",
     "metadata": {},
     "outputs": [],
     "prompt_number": 34
    },
    {
     "cell_type": "code",
     "collapsed": false,
     "input": [
      "# Regular vectorized implementation (timeit)\n",
      "%timeit ist = a + (b*t11) + c*(t11-t12) + d*((t11-t12) * (1/np.cos(theta) - 1))"
     ],
     "language": "python",
     "metadata": {},
     "outputs": [
      {
       "output_type": "stream",
       "stream": "stdout",
       "text": [
        "10 loops, best of 3: 40.1 ms per loop\n"
       ]
      }
     ],
     "prompt_number": 35
    },
    {
     "cell_type": "code",
     "collapsed": false,
     "input": [
      "# Using numexpr (timeit)\n",
      "%timeit ist = ne.evaluate(\"a + (b*t11) + c*(t11-t12) + d*((t11-t12) * (1/cos(theta) - 1))\")"
     ],
     "language": "python",
     "metadata": {},
     "outputs": [
      {
       "output_type": "stream",
       "stream": "stdout",
       "text": [
        "10 loops, best of 3: 29.7 ms per loop\n"
       ]
      }
     ],
     "prompt_number": 36
    },
    {
     "cell_type": "heading",
     "level": 2,
     "metadata": {},
     "source": [
      "Cython"
     ]
    },
    {
     "cell_type": "code",
     "collapsed": false,
     "input": [
      "%load_ext cythonmagic"
     ],
     "language": "python",
     "metadata": {},
     "outputs": [],
     "prompt_number": 37
    },
    {
     "cell_type": "code",
     "collapsed": true,
     "input": [
      "%%cython \n",
      "\n",
      "cdef int a = 0\n",
      "for i in range(10):\n",
      "    a += i\n",
      "print a"
     ],
     "language": "python",
     "metadata": {},
     "outputs": [
      {
       "output_type": "stream",
       "stream": "stdout",
       "text": [
        "45\n"
       ]
      }
     ],
     "prompt_number": 38
    },
    {
     "cell_type": "code",
     "collapsed": false,
     "input": [
      "%%cython\n",
      "\n",
      "def cython_test1(foo):\n",
      "    for i in range(len(foo)):\n",
      "        foo[i] = foo[i] ** 2"
     ],
     "language": "python",
     "metadata": {},
     "outputs": [],
     "prompt_number": 39
    },
    {
     "cell_type": "code",
     "collapsed": false,
     "input": [
      "a = np.arange(1e7)\n",
      "%timeit cython_test1(a)"
     ],
     "language": "python",
     "metadata": {},
     "outputs": [
      {
       "output_type": "stream",
       "stream": "stdout",
       "text": [
        "1 loops, best of 3: 2.21 s per loop\n"
       ]
      }
     ],
     "prompt_number": 40
    },
    {
     "cell_type": "code",
     "collapsed": false,
     "input": [
      "a = np.arange(1e7)\n",
      "%timeit do_something_loopy(a)"
     ],
     "language": "python",
     "metadata": {},
     "outputs": [
      {
       "output_type": "stream",
       "stream": "stdout",
       "text": [
        "1 loops, best of 3: 3.26 s per loop\n"
       ]
      }
     ],
     "prompt_number": 41
    }
   ],
   "metadata": {}
  }
 ]
}